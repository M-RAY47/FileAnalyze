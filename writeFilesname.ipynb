{
 "metadata": {
  "language_info": {
   "codemirror_mode": {
    "name": "ipython",
    "version": 3
   },
   "file_extension": ".py",
   "mimetype": "text/x-python",
   "name": "python",
   "nbconvert_exporter": "python",
   "pygments_lexer": "ipython3",
   "version": "3.8.5"
  },
  "orig_nbformat": 4,
  "kernelspec": {
   "name": "python3",
   "display_name": "Python 3.8.5 64-bit"
  },
  "interpreter": {
   "hash": "cfb8ef2d0a4d14ef140fc0dfa6a38457b54cbd7ecbf67cbcdec16b905a6178da"
  }
 },
 "nbformat": 4,
 "nbformat_minor": 2,
 "cells": [
  {
   "cell_type": "code",
   "execution_count": 7,
   "metadata": {},
   "outputs": [
    {
     "output_type": "stream",
     "name": "stdout",
     "text": [
      "Successfully listed 401 files and printed analysis in F:\\ddddc\\writing.csv\n"
     ]
    }
   ],
   "source": [
    "from pathlib import Path\n",
    "import csv\n",
    "import os\n",
    "\n",
    "\n",
    "def convert_size(size):\n",
    "    \"\"\"Convert a size in bytes (as integer) to a size with unit (as a string)\"\"\"\n",
    "    unit = \"B\"\n",
    "    # Reminder: 1 KB = 1024 B, and 1 MB = 1024 KB, ...\n",
    "    for letter in \"KMG\":\n",
    "        if size > 1024:\n",
    "            size /= 1024\n",
    "            unit = f\"{letter}B\"\n",
    "    # We want to keep 2 digits after floating point\n",
    "    # because it is a good balance and precision and concision\n",
    "    return f\"{size:0.2f} {unit}\"\n",
    "\n",
    "\n",
    "def analyze_folder(folder, csv_path):\n",
    "    '''writes the folders path, names, format and size in a csv file'''\n",
    "    path = Path(folder)\n",
    "    n = 0 # the number of files in the folder\n",
    "    with open(csv_path, 'w', encoding=\"utf-8\", newline=\"\") as csvfile:\n",
    "        spamwriter = csv.writer(csvfile, delimiter = \",\")\n",
    "        spamwriter.writerow([\"Path\", \"Extension\", \"Size\"])\n",
    "        for child in path.rglob(\"*.*\"):\n",
    "            if child.is_file():\n",
    "                spamwriter.writerow([child, (child.suffix),convert_size(os.path.getsize(child))])\n",
    "                n += 1\n",
    "    print(f\"Successfully listed {n} files and printed analysis in {csv_path}\")\n",
    "\n",
    "folder = \"F:\\\\ddddc\"\n",
    "file_csv = \"F:\\ddddc\\writing.csv\"\n",
    "analyze_folder(folder,file_csv)\n",
    "            "
   ]
  },
  {
   "cell_type": "code",
   "execution_count": null,
   "metadata": {},
   "outputs": [],
   "source": []
  }
 ]
}